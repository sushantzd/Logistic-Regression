{
 "cells": [
  {
   "cell_type": "code",
   "execution_count": 1,
   "id": "1d7322b3-e6a8-4008-87b6-c47b53350a8d",
   "metadata": {},
   "outputs": [],
   "source": [
    "import pandas as pd \n",
    "import numpy as np \n",
    "import seaborn as sns\n",
    "import matplotlib as plt \n",
    "%matplotlib inline\n",
    "import matplotlib.pyplot as plt"
   ]
  },
  {
   "cell_type": "code",
   "execution_count": 2,
   "id": "e3640816-3964-4869-8a67-28f7d13140dc",
   "metadata": {},
   "outputs": [],
   "source": [
    "from sklearn.datasets import make_classification"
   ]
  },
  {
   "cell_type": "code",
   "execution_count": 3,
   "id": "88b64a4e-846c-4f0c-b815-3619080f9808",
   "metadata": {},
   "outputs": [],
   "source": [
    "#now we will create the dataset\n",
    "X,Y =make_classification(n_samples=1000,n_features=10,n_classes=2,random_state=42)"
   ]
  },
  {
   "cell_type": "code",
   "execution_count": 4,
   "id": "2c09e205-6211-4f1c-a534-1497b5c9f6db",
   "metadata": {},
   "outputs": [],
   "source": [
    "\n",
    "from sklearn.model_selection import train_test_split\n",
    "X_train, X_test, Y_train, Y_test = train_test_split(X, Y, test_size=0.30, random_state=42)\n"
   ]
  },
  {
   "cell_type": "code",
   "execution_count": 5,
   "id": "38b3cefe-c751-4a58-aca3-af443b050294",
   "metadata": {},
   "outputs": [],
   "source": [
    "#modelTraining\n",
    "from sklearn.linear_model import LogisticRegression\n",
    "model = LogisticRegression()"
   ]
  },
  {
   "cell_type": "code",
   "execution_count": 6,
   "id": "4006b93f-5960-4dc8-9527-32dcb652cd66",
   "metadata": {},
   "outputs": [
    {
     "data": {
      "text/html": [
       "<style>#sk-container-id-1 {color: black;}#sk-container-id-1 pre{padding: 0;}#sk-container-id-1 div.sk-toggleable {background-color: white;}#sk-container-id-1 label.sk-toggleable__label {cursor: pointer;display: block;width: 100%;margin-bottom: 0;padding: 0.3em;box-sizing: border-box;text-align: center;}#sk-container-id-1 label.sk-toggleable__label-arrow:before {content: \"▸\";float: left;margin-right: 0.25em;color: #696969;}#sk-container-id-1 label.sk-toggleable__label-arrow:hover:before {color: black;}#sk-container-id-1 div.sk-estimator:hover label.sk-toggleable__label-arrow:before {color: black;}#sk-container-id-1 div.sk-toggleable__content {max-height: 0;max-width: 0;overflow: hidden;text-align: left;background-color: #f0f8ff;}#sk-container-id-1 div.sk-toggleable__content pre {margin: 0.2em;color: black;border-radius: 0.25em;background-color: #f0f8ff;}#sk-container-id-1 input.sk-toggleable__control:checked~div.sk-toggleable__content {max-height: 200px;max-width: 100%;overflow: auto;}#sk-container-id-1 input.sk-toggleable__control:checked~label.sk-toggleable__label-arrow:before {content: \"▾\";}#sk-container-id-1 div.sk-estimator input.sk-toggleable__control:checked~label.sk-toggleable__label {background-color: #d4ebff;}#sk-container-id-1 div.sk-label input.sk-toggleable__control:checked~label.sk-toggleable__label {background-color: #d4ebff;}#sk-container-id-1 input.sk-hidden--visually {border: 0;clip: rect(1px 1px 1px 1px);clip: rect(1px, 1px, 1px, 1px);height: 1px;margin: -1px;overflow: hidden;padding: 0;position: absolute;width: 1px;}#sk-container-id-1 div.sk-estimator {font-family: monospace;background-color: #f0f8ff;border: 1px dotted black;border-radius: 0.25em;box-sizing: border-box;margin-bottom: 0.5em;}#sk-container-id-1 div.sk-estimator:hover {background-color: #d4ebff;}#sk-container-id-1 div.sk-parallel-item::after {content: \"\";width: 100%;border-bottom: 1px solid gray;flex-grow: 1;}#sk-container-id-1 div.sk-label:hover label.sk-toggleable__label {background-color: #d4ebff;}#sk-container-id-1 div.sk-serial::before {content: \"\";position: absolute;border-left: 1px solid gray;box-sizing: border-box;top: 0;bottom: 0;left: 50%;z-index: 0;}#sk-container-id-1 div.sk-serial {display: flex;flex-direction: column;align-items: center;background-color: white;padding-right: 0.2em;padding-left: 0.2em;position: relative;}#sk-container-id-1 div.sk-item {position: relative;z-index: 1;}#sk-container-id-1 div.sk-parallel {display: flex;align-items: stretch;justify-content: center;background-color: white;position: relative;}#sk-container-id-1 div.sk-item::before, #sk-container-id-1 div.sk-parallel-item::before {content: \"\";position: absolute;border-left: 1px solid gray;box-sizing: border-box;top: 0;bottom: 0;left: 50%;z-index: -1;}#sk-container-id-1 div.sk-parallel-item {display: flex;flex-direction: column;z-index: 1;position: relative;background-color: white;}#sk-container-id-1 div.sk-parallel-item:first-child::after {align-self: flex-end;width: 50%;}#sk-container-id-1 div.sk-parallel-item:last-child::after {align-self: flex-start;width: 50%;}#sk-container-id-1 div.sk-parallel-item:only-child::after {width: 0;}#sk-container-id-1 div.sk-dashed-wrapped {border: 1px dashed gray;margin: 0 0.4em 0.5em 0.4em;box-sizing: border-box;padding-bottom: 0.4em;background-color: white;}#sk-container-id-1 div.sk-label label {font-family: monospace;font-weight: bold;display: inline-block;line-height: 1.2em;}#sk-container-id-1 div.sk-label-container {text-align: center;}#sk-container-id-1 div.sk-container {/* jupyter's `normalize.less` sets `[hidden] { display: none; }` but bootstrap.min.css set `[hidden] { display: none !important; }` so we also need the `!important` here to be able to override the default hidden behavior on the sphinx rendered scikit-learn.org. See: https://github.com/scikit-learn/scikit-learn/issues/21755 */display: inline-block !important;position: relative;}#sk-container-id-1 div.sk-text-repr-fallback {display: none;}</style><div id=\"sk-container-id-1\" class=\"sk-top-container\"><div class=\"sk-text-repr-fallback\"><pre>LogisticRegression()</pre><b>In a Jupyter environment, please rerun this cell to show the HTML representation or trust the notebook. <br />On GitHub, the HTML representation is unable to render, please try loading this page with nbviewer.org.</b></div><div class=\"sk-container\" hidden><div class=\"sk-item\"><div class=\"sk-estimator sk-toggleable\"><input class=\"sk-toggleable__control sk-hidden--visually\" id=\"sk-estimator-id-1\" type=\"checkbox\" checked><label for=\"sk-estimator-id-1\" class=\"sk-toggleable__label sk-toggleable__label-arrow\">LogisticRegression</label><div class=\"sk-toggleable__content\"><pre>LogisticRegression()</pre></div></div></div></div></div>"
      ],
      "text/plain": [
       "LogisticRegression()"
      ]
     },
     "execution_count": 6,
     "metadata": {},
     "output_type": "execute_result"
    }
   ],
   "source": [
    "model.fit(X_train,Y_train)"
   ]
  },
  {
   "cell_type": "code",
   "execution_count": 7,
   "id": "1a975c52-fa94-492a-b40d-4bfb4448bc83",
   "metadata": {},
   "outputs": [],
   "source": [
    "Y_pred = model.predict (X_test)"
   ]
  },
  {
   "cell_type": "code",
   "execution_count": 8,
   "id": "85843c5d-348b-40bd-acb1-cb6c49415c4b",
   "metadata": {},
   "outputs": [
    {
     "name": "stdout",
     "output_type": "stream",
     "text": [
      "[0 1 0 1 0 1 0 0 0 0 0 1 0 1 0 0 1 1 1 1 0 0 1 0 0 1 0 0 1 1 1 1 0 0 0 0 1\n",
      " 1 1 1 0 1 1 0 0 0 1 1 1 1 0 1 0 0 1 0 1 0 1 0 1 0 0 1 1 1 0 0 1 1 1 1 1 0\n",
      " 1 0 0 1 0 1 0 0 1 0 1 0 0 0 0 1 1 1 1 1 1 1 0 0 1 0 1 0 1 0 0 1 0 1 1 1 1\n",
      " 1 1 1 1 0 0 1 0 0 1 1 0 1 1 1 1 1 1 1 1 0 1 1 1 1 0 0 0 1 1 0 0 0 0 0 1 0\n",
      " 0 0 1 0 0 1 0 0 1 0 1 1 0 1 0 0 0 0 0 0 0 1 1 0 0 0 1 1 0 0 1 1 1 1 1 1 1\n",
      " 0 0 0 0 1 0 0 0 0 1 0 0 1 1 1 0 1 0 0 0 1 1 1 1 1 0 0 0 0 0 1 0 1 0 1 1 0\n",
      " 0 1 1 1 0 1 1 0 0 0 0 0 0 0 0 0 1 1 0 1 0 1 1 0 1 0 1 0 1 1 1 0 0 1 1 1 1\n",
      " 0 1 0 1 1 0 0 0 1 1 0 1 1 0 0 1 0 0 0 0 1 1 0 1 0 1 1 1 0 0 1 0 1 1 0 1 1\n",
      " 1 1 1 0]\n"
     ]
    }
   ],
   "source": [
    "print (Y_pred)"
   ]
  },
  {
   "cell_type": "code",
   "execution_count": 9,
   "id": "3a316061-1f23-4b3d-979f-ce8c6b369742",
   "metadata": {},
   "outputs": [
    {
     "data": {
      "text/plain": [
       "array([[7.74481865e-01, 2.25518135e-01],\n",
       "       [3.36701953e-02, 9.66329805e-01],\n",
       "       [6.70684311e-01, 3.29315689e-01],\n",
       "       [7.98688284e-02, 9.20131172e-01],\n",
       "       [9.76617515e-01, 2.33824847e-02],\n",
       "       [4.13590037e-02, 9.58640996e-01],\n",
       "       [9.79029806e-01, 2.09701936e-02],\n",
       "       [9.59367633e-01, 4.06323668e-02],\n",
       "       [8.08516510e-01, 1.91483490e-01],\n",
       "       [6.84961496e-01, 3.15038504e-01],\n",
       "       [9.13670314e-01, 8.63296857e-02],\n",
       "       [2.63599422e-01, 7.36400578e-01],\n",
       "       [5.25846966e-01, 4.74153034e-01],\n",
       "       [2.11919907e-01, 7.88080093e-01],\n",
       "       [7.93598597e-01, 2.06401403e-01],\n",
       "       [9.46623760e-01, 5.33762402e-02],\n",
       "       [2.62972095e-02, 9.73702790e-01],\n",
       "       [3.24226362e-01, 6.75773638e-01],\n",
       "       [3.14809449e-01, 6.85190551e-01],\n",
       "       [2.04954712e-01, 7.95045288e-01],\n",
       "       [5.04587814e-01, 4.95412186e-01],\n",
       "       [9.66703959e-01, 3.32960407e-02],\n",
       "       [2.00518184e-01, 7.99481816e-01],\n",
       "       [7.77899761e-01, 2.22100239e-01],\n",
       "       [8.72991320e-01, 1.27008680e-01],\n",
       "       [4.01992876e-02, 9.59800712e-01],\n",
       "       [9.21219173e-01, 7.87808267e-02],\n",
       "       [8.14309281e-01, 1.85690719e-01],\n",
       "       [4.84332824e-01, 5.15667176e-01],\n",
       "       [3.45972984e-01, 6.54027016e-01],\n",
       "       [6.82537540e-02, 9.31746246e-01],\n",
       "       [5.40131363e-04, 9.99459869e-01],\n",
       "       [9.69329547e-01, 3.06704527e-02],\n",
       "       [9.72909700e-01, 2.70903002e-02],\n",
       "       [9.42368579e-01, 5.76314206e-02],\n",
       "       [5.19297868e-01, 4.80702132e-01],\n",
       "       [8.46485360e-02, 9.15351464e-01],\n",
       "       [3.25973489e-01, 6.74026511e-01],\n",
       "       [4.76896441e-01, 5.23103559e-01],\n",
       "       [1.53792182e-04, 9.99846208e-01],\n",
       "       [9.15876864e-01, 8.41231355e-02],\n",
       "       [8.64941639e-02, 9.13505836e-01],\n",
       "       [4.79534466e-01, 5.20465534e-01],\n",
       "       [9.35684881e-01, 6.43151186e-02],\n",
       "       [9.77892432e-01, 2.21075678e-02],\n",
       "       [5.85647729e-01, 4.14352271e-01],\n",
       "       [1.57850274e-02, 9.84214973e-01],\n",
       "       [7.62153473e-02, 9.23784653e-01],\n",
       "       [1.34856191e-02, 9.86514381e-01],\n",
       "       [5.30434207e-02, 9.46956579e-01],\n",
       "       [8.06446491e-01, 1.93553509e-01],\n",
       "       [4.80640441e-03, 9.95193596e-01],\n",
       "       [5.04842439e-01, 4.95157561e-01],\n",
       "       [8.68426696e-01, 1.31573304e-01],\n",
       "       [8.92672785e-03, 9.91073272e-01],\n",
       "       [5.92496250e-01, 4.07503750e-01],\n",
       "       [1.57436250e-01, 8.42563750e-01],\n",
       "       [9.76377528e-01, 2.36224722e-02],\n",
       "       [9.85841380e-02, 9.01415862e-01],\n",
       "       [9.04180754e-01, 9.58192457e-02],\n",
       "       [6.72500548e-03, 9.93274995e-01],\n",
       "       [6.94841326e-01, 3.05158674e-01],\n",
       "       [7.57556928e-01, 2.42443072e-01],\n",
       "       [3.10058692e-02, 9.68994131e-01],\n",
       "       [3.06678156e-01, 6.93321844e-01],\n",
       "       [1.74768485e-01, 8.25231515e-01],\n",
       "       [8.36521054e-01, 1.63478946e-01],\n",
       "       [8.97502104e-01, 1.02497896e-01],\n",
       "       [3.36206495e-01, 6.63793505e-01],\n",
       "       [1.63594256e-01, 8.36405744e-01],\n",
       "       [3.22760752e-01, 6.77239248e-01],\n",
       "       [4.48407621e-02, 9.55159238e-01],\n",
       "       [2.14636531e-04, 9.99785363e-01],\n",
       "       [9.68626945e-01, 3.13730548e-02],\n",
       "       [1.85288140e-01, 8.14711860e-01],\n",
       "       [8.76098052e-01, 1.23901948e-01],\n",
       "       [9.74553011e-01, 2.54469887e-02],\n",
       "       [1.69197167e-03, 9.98308028e-01],\n",
       "       [9.42492972e-01, 5.75070276e-02],\n",
       "       [1.66995263e-01, 8.33004737e-01],\n",
       "       [7.93679632e-01, 2.06320368e-01],\n",
       "       [9.40837464e-01, 5.91625357e-02],\n",
       "       [1.01615314e-01, 8.98384686e-01],\n",
       "       [8.74076764e-01, 1.25923236e-01],\n",
       "       [2.28543145e-04, 9.99771457e-01],\n",
       "       [8.78527123e-01, 1.21472877e-01],\n",
       "       [8.44947807e-01, 1.55052193e-01],\n",
       "       [8.53359591e-01, 1.46640409e-01],\n",
       "       [8.69064992e-01, 1.30935008e-01],\n",
       "       [1.28583877e-01, 8.71416123e-01],\n",
       "       [2.73400137e-03, 9.97265999e-01],\n",
       "       [2.14411341e-02, 9.78558866e-01],\n",
       "       [1.08234081e-01, 8.91765919e-01],\n",
       "       [2.63736527e-01, 7.36263473e-01],\n",
       "       [5.78022690e-02, 9.42197731e-01],\n",
       "       [2.16043961e-01, 7.83956039e-01],\n",
       "       [9.32822742e-01, 6.71772580e-02],\n",
       "       [9.41557827e-01, 5.84421729e-02],\n",
       "       [4.08775347e-01, 5.91224653e-01],\n",
       "       [9.17169218e-01, 8.28307822e-02],\n",
       "       [4.74766726e-03, 9.95252333e-01],\n",
       "       [9.38740890e-01, 6.12591101e-02],\n",
       "       [1.56657301e-02, 9.84334270e-01],\n",
       "       [9.97834478e-01, 2.16552153e-03],\n",
       "       [9.91498842e-01, 8.50115780e-03],\n",
       "       [2.95811194e-01, 7.04188806e-01],\n",
       "       [9.79658129e-01, 2.03418708e-02],\n",
       "       [4.24497885e-03, 9.95755021e-01],\n",
       "       [4.46640159e-01, 5.53359841e-01],\n",
       "       [1.04695114e-01, 8.95304886e-01],\n",
       "       [1.74853656e-01, 8.25146344e-01],\n",
       "       [6.03245449e-02, 9.39675455e-01],\n",
       "       [6.56140824e-02, 9.34385918e-01],\n",
       "       [1.19932755e-01, 8.80067245e-01],\n",
       "       [8.58139148e-03, 9.91418609e-01],\n",
       "       [8.59877793e-01, 1.40122207e-01],\n",
       "       [6.84720111e-01, 3.15279889e-01],\n",
       "       [1.95239503e-01, 8.04760497e-01],\n",
       "       [9.82842411e-01, 1.71575890e-02],\n",
       "       [9.47845022e-01, 5.21549784e-02],\n",
       "       [6.97673013e-04, 9.99302327e-01],\n",
       "       [3.92559718e-02, 9.60744028e-01],\n",
       "       [9.40312854e-01, 5.96871456e-02],\n",
       "       [2.89286381e-02, 9.71071362e-01],\n",
       "       [5.42289824e-02, 9.45771018e-01],\n",
       "       [1.63545398e-01, 8.36454602e-01],\n",
       "       [2.30250688e-03, 9.97697493e-01],\n",
       "       [1.31065468e-01, 8.68934532e-01],\n",
       "       [7.18456043e-02, 9.28154396e-01],\n",
       "       [5.19761272e-03, 9.94802387e-01],\n",
       "       [1.66745837e-01, 8.33254163e-01],\n",
       "       [8.64726781e-01, 1.35273219e-01],\n",
       "       [2.03825685e-01, 7.96174315e-01],\n",
       "       [3.85209992e-02, 9.61479001e-01],\n",
       "       [4.25742886e-01, 5.74257114e-01],\n",
       "       [1.22170814e-01, 8.77829186e-01],\n",
       "       [9.69782987e-01, 3.02170132e-02],\n",
       "       [8.44239030e-01, 1.55760970e-01],\n",
       "       [9.51010813e-01, 4.89891866e-02],\n",
       "       [3.65223925e-02, 9.63477607e-01],\n",
       "       [2.97238616e-01, 7.02761384e-01],\n",
       "       [9.83931108e-01, 1.60688920e-02],\n",
       "       [8.50485458e-01, 1.49514542e-01],\n",
       "       [9.69227221e-01, 3.07727794e-02],\n",
       "       [5.70768012e-01, 4.29231988e-01],\n",
       "       [6.08976444e-01, 3.91023556e-01],\n",
       "       [1.52019067e-03, 9.98479809e-01],\n",
       "       [9.05745569e-01, 9.42544308e-02],\n",
       "       [9.84756939e-01, 1.52430607e-02],\n",
       "       [9.88123177e-01, 1.18768231e-02],\n",
       "       [2.69251140e-02, 9.73074886e-01],\n",
       "       [9.93780698e-01, 6.21930198e-03],\n",
       "       [9.23254454e-01, 7.67455462e-02],\n",
       "       [4.96000594e-01, 5.03999406e-01],\n",
       "       [9.29593709e-01, 7.04062907e-02],\n",
       "       [9.83111918e-01, 1.68880817e-02],\n",
       "       [3.74697480e-03, 9.96253025e-01],\n",
       "       [9.41062693e-01, 5.89373066e-02],\n",
       "       [4.83202797e-01, 5.16797203e-01],\n",
       "       [1.28935173e-01, 8.71064827e-01],\n",
       "       [9.66521035e-01, 3.34789653e-02],\n",
       "       [9.51215587e-02, 9.04878441e-01],\n",
       "       [8.98677902e-01, 1.01322098e-01],\n",
       "       [9.34913945e-01, 6.50860555e-02],\n",
       "       [8.83540452e-01, 1.16459548e-01],\n",
       "       [7.75754015e-01, 2.24245985e-01],\n",
       "       [8.74341146e-01, 1.25658854e-01],\n",
       "       [8.47578762e-01, 1.52421238e-01],\n",
       "       [9.62575606e-01, 3.74243942e-02],\n",
       "       [2.72316024e-01, 7.27683976e-01],\n",
       "       [1.02520173e-01, 8.97479827e-01],\n",
       "       [5.00237888e-01, 4.99762112e-01],\n",
       "       [8.54022574e-01, 1.45977426e-01],\n",
       "       [9.18044055e-01, 8.19559450e-02],\n",
       "       [1.42417516e-01, 8.57582484e-01],\n",
       "       [5.78345565e-02, 9.42165444e-01],\n",
       "       [8.08097044e-01, 1.91902956e-01],\n",
       "       [5.20477079e-01, 4.79522921e-01],\n",
       "       [1.34065429e-01, 8.65934571e-01],\n",
       "       [9.08221455e-02, 9.09177855e-01],\n",
       "       [8.49746926e-03, 9.91502531e-01],\n",
       "       [2.60308357e-01, 7.39691643e-01],\n",
       "       [5.84156069e-02, 9.41584393e-01],\n",
       "       [3.63803552e-02, 9.63619645e-01],\n",
       "       [1.19269549e-01, 8.80730451e-01],\n",
       "       [7.89893915e-01, 2.10106085e-01],\n",
       "       [8.43223196e-01, 1.56776804e-01],\n",
       "       [9.98692315e-01, 1.30768462e-03],\n",
       "       [8.78879748e-01, 1.21120252e-01],\n",
       "       [3.56788101e-02, 9.64321190e-01],\n",
       "       [6.03056823e-01, 3.96943177e-01],\n",
       "       [9.86431468e-01, 1.35685316e-02],\n",
       "       [7.93147418e-01, 2.06852582e-01],\n",
       "       [8.47471429e-01, 1.52528571e-01],\n",
       "       [1.13681024e-01, 8.86318976e-01],\n",
       "       [8.19144936e-01, 1.80855064e-01],\n",
       "       [8.96157436e-01, 1.03842564e-01],\n",
       "       [9.08684103e-02, 9.09131590e-01],\n",
       "       [1.34430955e-02, 9.86556905e-01],\n",
       "       [6.36423872e-03, 9.93635761e-01],\n",
       "       [8.98003490e-01, 1.01996510e-01],\n",
       "       [1.42697682e-02, 9.85730232e-01],\n",
       "       [6.47051534e-01, 3.52948466e-01],\n",
       "       [6.45803242e-01, 3.54196758e-01],\n",
       "       [8.98932746e-01, 1.01067254e-01],\n",
       "       [3.98254483e-01, 6.01745517e-01],\n",
       "       [4.78063005e-02, 9.52193700e-01],\n",
       "       [1.25482536e-01, 8.74517464e-01],\n",
       "       [4.58966773e-04, 9.99541033e-01],\n",
       "       [1.81793809e-01, 8.18206191e-01],\n",
       "       [9.76613816e-01, 2.33861841e-02],\n",
       "       [9.05274286e-01, 9.47257137e-02],\n",
       "       [7.81835426e-01, 2.18164574e-01],\n",
       "       [9.35072370e-01, 6.49276298e-02],\n",
       "       [9.77101449e-01, 2.28985506e-02],\n",
       "       [4.05115858e-01, 5.94884142e-01],\n",
       "       [9.51059930e-01, 4.89400698e-02],\n",
       "       [1.38472467e-03, 9.98615275e-01],\n",
       "       [8.12440196e-01, 1.87559804e-01],\n",
       "       [2.25592515e-01, 7.74407485e-01],\n",
       "       [2.36374312e-01, 7.63625688e-01],\n",
       "       [8.08299917e-01, 1.91700083e-01],\n",
       "       [9.36603168e-01, 6.33968322e-02],\n",
       "       [1.88735249e-02, 9.81126475e-01],\n",
       "       [1.77460025e-01, 8.22539975e-01],\n",
       "       [2.46437562e-02, 9.75356244e-01],\n",
       "       [8.70664788e-01, 1.29335212e-01],\n",
       "       [9.63075851e-04, 9.99036924e-01],\n",
       "       [8.29865504e-02, 9.17013450e-01],\n",
       "       [9.78392869e-01, 2.16071311e-02],\n",
       "       [9.69095602e-01, 3.09043980e-02],\n",
       "       [7.81409686e-01, 2.18590314e-01],\n",
       "       [9.96733275e-01, 3.26672513e-03],\n",
       "       [9.57755578e-01, 4.22444220e-02],\n",
       "       [8.04248877e-01, 1.95751123e-01],\n",
       "       [9.61517522e-01, 3.84824778e-02],\n",
       "       [9.97874659e-01, 2.12534085e-03],\n",
       "       [9.24711686e-01, 7.52883138e-02],\n",
       "       [2.42346010e-02, 9.75765399e-01],\n",
       "       [1.35493128e-01, 8.64506872e-01],\n",
       "       [9.93125860e-01, 6.87414044e-03],\n",
       "       [3.44926809e-03, 9.96550732e-01],\n",
       "       [7.44652070e-01, 2.55347930e-01],\n",
       "       [1.36444131e-01, 8.63555869e-01],\n",
       "       [2.40979535e-02, 9.75902046e-01],\n",
       "       [8.43426032e-01, 1.56573968e-01],\n",
       "       [1.45788436e-04, 9.99854212e-01],\n",
       "       [9.40089263e-01, 5.99107368e-02],\n",
       "       [1.05127669e-02, 9.89487233e-01],\n",
       "       [7.86959717e-01, 2.13040283e-01],\n",
       "       [7.24052243e-02, 9.27594776e-01],\n",
       "       [4.59900226e-01, 5.40099774e-01],\n",
       "       [4.78129992e-01, 5.21870008e-01],\n",
       "       [9.84777199e-01, 1.52228013e-02],\n",
       "       [9.27077179e-01, 7.29228213e-02],\n",
       "       [6.48952060e-03, 9.93510479e-01],\n",
       "       [5.64521972e-02, 9.43547803e-01],\n",
       "       [3.32902546e-02, 9.66709745e-01],\n",
       "       [2.84423727e-03, 9.97155763e-01],\n",
       "       [9.84839839e-01, 1.51601607e-02],\n",
       "       [2.32776846e-01, 7.67223154e-01],\n",
       "       [5.81291922e-01, 4.18708078e-01],\n",
       "       [6.14520121e-02, 9.38547988e-01],\n",
       "       [2.20628779e-02, 9.77937122e-01],\n",
       "       [9.97792652e-01, 2.20734794e-03],\n",
       "       [9.69145599e-01, 3.08544007e-02],\n",
       "       [6.10738877e-01, 3.89261123e-01],\n",
       "       [4.52029934e-03, 9.95479701e-01],\n",
       "       [5.22485488e-03, 9.94775145e-01],\n",
       "       [8.38893325e-01, 1.61106675e-01],\n",
       "       [2.94097052e-02, 9.70590295e-01],\n",
       "       [2.44818311e-02, 9.75518169e-01],\n",
       "       [5.04737096e-01, 4.95262904e-01],\n",
       "       [9.96970942e-01, 3.02905783e-03],\n",
       "       [4.38371748e-01, 5.61628252e-01],\n",
       "       [7.55540093e-01, 2.44459907e-01],\n",
       "       [7.21771966e-01, 2.78228034e-01],\n",
       "       [9.15380208e-01, 8.46197921e-02],\n",
       "       [9.55610942e-01, 4.43890578e-02],\n",
       "       [1.49460460e-01, 8.50539540e-01],\n",
       "       [4.73409051e-01, 5.26590949e-01],\n",
       "       [8.82431144e-01, 1.17568856e-01],\n",
       "       [1.02707612e-02, 9.89729239e-01],\n",
       "       [9.86046846e-01, 1.39531536e-02],\n",
       "       [1.41032967e-01, 8.58967033e-01],\n",
       "       [1.44358323e-01, 8.55641677e-01],\n",
       "       [4.31392623e-04, 9.99568607e-01],\n",
       "       [8.21144889e-01, 1.78855111e-01],\n",
       "       [9.60789878e-01, 3.92101221e-02],\n",
       "       [7.05652583e-03, 9.92943474e-01],\n",
       "       [8.69526443e-01, 1.30473557e-01],\n",
       "       [4.76296467e-02, 9.52370353e-01],\n",
       "       [3.64455780e-01, 6.35544220e-01],\n",
       "       [7.16395657e-01, 2.83604343e-01],\n",
       "       [4.75936227e-01, 5.24063773e-01],\n",
       "       [2.76519062e-01, 7.23480938e-01],\n",
       "       [1.77151018e-01, 8.22848982e-01],\n",
       "       [3.87696775e-01, 6.12303225e-01],\n",
       "       [8.73576301e-02, 9.12642370e-01],\n",
       "       [8.74641465e-01, 1.25358535e-01]])"
      ]
     },
     "execution_count": 9,
     "metadata": {},
     "output_type": "execute_result"
    }
   ],
   "source": [
    "#Probability Ki konsa h koi bich m ajata h to uske liye hota h is case me jurrt nhi h hme\n",
    "model.predict_proba(X_test)\n"
   ]
  },
  {
   "cell_type": "code",
   "execution_count": 118,
   "id": "d1c9392d-21a6-459f-8ad4-31dba75fc69b",
   "metadata": {},
   "outputs": [],
   "source": [
    "from sklearn.metrics import accuracy_score,confusion_matrix,classification_report"
   ]
  },
  {
   "cell_type": "code",
   "execution_count": 142,
   "id": "d6428688-1dee-4e2c-acea-838f69569169",
   "metadata": {},
   "outputs": [
    {
     "name": "stdout",
     "output_type": "stream",
     "text": [
      "0.8466666666666667\n",
      "[[118  17]\n",
      " [ 29 136]]\n",
      "              precision    recall  f1-score   support\n",
      "\n",
      "           0       0.80      0.87      0.84       135\n",
      "           1       0.89      0.82      0.86       165\n",
      "\n",
      "    accuracy                           0.85       300\n",
      "   macro avg       0.85      0.85      0.85       300\n",
      "weighted avg       0.85      0.85      0.85       300\n",
      "\n"
     ]
    }
   ],
   "source": [
    "score = accuracy_score(Y_test,Y_pred)\n",
    "cm = confusion_matrix(Y_test,Y_pred)\n",
    "report = classification_report(Y_test,Y_pred)\n",
    "print (score)\n",
    "print(cm)\n",
    "print(report)"
   ]
  },
  {
   "cell_type": "code",
   "execution_count": 12,
   "id": "774b1f1d-e479-43fb-82d1-bb2c39da9dc5",
   "metadata": {},
   "outputs": [],
   "source": [
    "#now we will do HYperparamerter Tuning ,cv & grid"
   ]
  },
  {
   "cell_type": "code",
   "execution_count": 122,
   "id": "e1a9cc7c-a85c-456f-ae5c-b140b188b6f0",
   "metadata": {},
   "outputs": [],
   "source": [
    "model1 =LogisticRegression()#(penalty='elasticnet', l1_ratio=0.5, solver='saga', max_iter=2000)\n",
    " # You can increase the value if needed\n",
    "\n",
    "penalty =['l1','l2','elasticnet']#The penalty specifies the type of regularization\n",
    "#that is applied to the model to prevent overfitting LAsso.Ridge,Elasticnet\n",
    "\n",
    "c_values = [100,10,1.0,0.1,0.01]#The C parameter controls the regularization strength, \n",
    "#where C is the inverse of the regularization strength. Smaller values of C mean stronger regularization\n",
    "\n",
    "solver = ['newton-cg','lbfgs','liblinear','sag','saga']#Solvers are optimization algorithms \n",
    "#used to minimize the loss function and find the best coefficients for the logistic regression model"
   ]
  },
  {
   "cell_type": "markdown",
   "id": "9320bf29-2506-4129-a842-32a975810399",
   "metadata": {},
   "source": [
    "we r creating a dictionary named params that will hold the different hyperparameters we want to test in your logistic regression model. Here's a breakdown:"
   ]
  },
  {
   "cell_type": "code",
   "execution_count": 124,
   "id": "16afe98b-c35d-4ea8-b2f3-5717d96fc662",
   "metadata": {},
   "outputs": [],
   "source": [
    "params =dict(penalty=penalty,C=c_values,solver=solver)\n",
    "# Create parameter grid with correct solver-penalty pairs\n",
    "# params = [\n",
    "#     {'penalty': ['l2'], 'C': c_values, 'solver': ['newton-cg', 'lbfgs', 'sag']},\n",
    "#     {'penalty': ['l1'], 'C': c_values, 'solver': ['liblinear']},\n",
    "#     {'penalty': ['l2', 'l1', 'elasticnet'], 'C': c_values, 'solver': ['saga'], 'l1_ratio': [0.5, 0.7]}  # l1_ratio is needed for elasticnet\n",
    "# ]\n"
   ]
  },
  {
   "cell_type": "markdown",
   "id": "1049d46a-69c6-47b4-93e1-3b2487871a01",
   "metadata": {},
   "source": [
    "#grid Search cv(we will find the best parameter that will be fit for our dataset)"
   ]
  },
  {
   "cell_type": "code",
   "execution_count": 126,
   "id": "eb38e159-6905-477d-8b9e-7357e241d449",
   "metadata": {},
   "outputs": [],
   "source": [
    "from sklearn.model_selection import StratifiedKFold\n",
    "cv=StratifiedKFold()"
   ]
  },
  {
   "cell_type": "code",
   "execution_count": 128,
   "id": "94f5e5a9-9b48-4f85-a3b7-5296c175bee1",
   "metadata": {},
   "outputs": [],
   "source": [
    "#gridserch cv\n",
    "from sklearn.model_selection import GridSearchCV\n",
    "grid=GridSearchCV(estimator=model1,param_grid=params,\n",
    "                  scoring='accuracy',cv=cv,n_jobs=-1)\n",
    "# from sklearn.model_selection import GridSearchCV\n",
    "\n",
    "# # Assuming model1 is your initialized model and params is your parameter grid\n",
    "# grid = GridSearchCV(estimator=model1, \n",
    "#                     param_grid=params, \n",
    "#                     scoring='accuracy',   # Change this if you're using another metric\n",
    "#                     cv=cv,                # StratifiedKFold or another cross-validation strategy\n",
    "#                     n_jobs=-1)            # Parallel processing\n"
   ]
  },
  {
   "cell_type": "code",
   "execution_count": 130,
   "id": "a441fabd-8774-4850-a37a-af91e5f849e1",
   "metadata": {},
   "outputs": [
    {
     "data": {
      "text/html": [
       "<style>#sk-container-id-17 {color: black;}#sk-container-id-17 pre{padding: 0;}#sk-container-id-17 div.sk-toggleable {background-color: white;}#sk-container-id-17 label.sk-toggleable__label {cursor: pointer;display: block;width: 100%;margin-bottom: 0;padding: 0.3em;box-sizing: border-box;text-align: center;}#sk-container-id-17 label.sk-toggleable__label-arrow:before {content: \"▸\";float: left;margin-right: 0.25em;color: #696969;}#sk-container-id-17 label.sk-toggleable__label-arrow:hover:before {color: black;}#sk-container-id-17 div.sk-estimator:hover label.sk-toggleable__label-arrow:before {color: black;}#sk-container-id-17 div.sk-toggleable__content {max-height: 0;max-width: 0;overflow: hidden;text-align: left;background-color: #f0f8ff;}#sk-container-id-17 div.sk-toggleable__content pre {margin: 0.2em;color: black;border-radius: 0.25em;background-color: #f0f8ff;}#sk-container-id-17 input.sk-toggleable__control:checked~div.sk-toggleable__content {max-height: 200px;max-width: 100%;overflow: auto;}#sk-container-id-17 input.sk-toggleable__control:checked~label.sk-toggleable__label-arrow:before {content: \"▾\";}#sk-container-id-17 div.sk-estimator input.sk-toggleable__control:checked~label.sk-toggleable__label {background-color: #d4ebff;}#sk-container-id-17 div.sk-label input.sk-toggleable__control:checked~label.sk-toggleable__label {background-color: #d4ebff;}#sk-container-id-17 input.sk-hidden--visually {border: 0;clip: rect(1px 1px 1px 1px);clip: rect(1px, 1px, 1px, 1px);height: 1px;margin: -1px;overflow: hidden;padding: 0;position: absolute;width: 1px;}#sk-container-id-17 div.sk-estimator {font-family: monospace;background-color: #f0f8ff;border: 1px dotted black;border-radius: 0.25em;box-sizing: border-box;margin-bottom: 0.5em;}#sk-container-id-17 div.sk-estimator:hover {background-color: #d4ebff;}#sk-container-id-17 div.sk-parallel-item::after {content: \"\";width: 100%;border-bottom: 1px solid gray;flex-grow: 1;}#sk-container-id-17 div.sk-label:hover label.sk-toggleable__label {background-color: #d4ebff;}#sk-container-id-17 div.sk-serial::before {content: \"\";position: absolute;border-left: 1px solid gray;box-sizing: border-box;top: 0;bottom: 0;left: 50%;z-index: 0;}#sk-container-id-17 div.sk-serial {display: flex;flex-direction: column;align-items: center;background-color: white;padding-right: 0.2em;padding-left: 0.2em;position: relative;}#sk-container-id-17 div.sk-item {position: relative;z-index: 1;}#sk-container-id-17 div.sk-parallel {display: flex;align-items: stretch;justify-content: center;background-color: white;position: relative;}#sk-container-id-17 div.sk-item::before, #sk-container-id-17 div.sk-parallel-item::before {content: \"\";position: absolute;border-left: 1px solid gray;box-sizing: border-box;top: 0;bottom: 0;left: 50%;z-index: -1;}#sk-container-id-17 div.sk-parallel-item {display: flex;flex-direction: column;z-index: 1;position: relative;background-color: white;}#sk-container-id-17 div.sk-parallel-item:first-child::after {align-self: flex-end;width: 50%;}#sk-container-id-17 div.sk-parallel-item:last-child::after {align-self: flex-start;width: 50%;}#sk-container-id-17 div.sk-parallel-item:only-child::after {width: 0;}#sk-container-id-17 div.sk-dashed-wrapped {border: 1px dashed gray;margin: 0 0.4em 0.5em 0.4em;box-sizing: border-box;padding-bottom: 0.4em;background-color: white;}#sk-container-id-17 div.sk-label label {font-family: monospace;font-weight: bold;display: inline-block;line-height: 1.2em;}#sk-container-id-17 div.sk-label-container {text-align: center;}#sk-container-id-17 div.sk-container {/* jupyter's `normalize.less` sets `[hidden] { display: none; }` but bootstrap.min.css set `[hidden] { display: none !important; }` so we also need the `!important` here to be able to override the default hidden behavior on the sphinx rendered scikit-learn.org. See: https://github.com/scikit-learn/scikit-learn/issues/21755 */display: inline-block !important;position: relative;}#sk-container-id-17 div.sk-text-repr-fallback {display: none;}</style><div id=\"sk-container-id-17\" class=\"sk-top-container\"><div class=\"sk-text-repr-fallback\"><pre>GridSearchCV(cv=StratifiedKFold(n_splits=5, random_state=None, shuffle=False),\n",
       "             estimator=LogisticRegression(), n_jobs=-1,\n",
       "             param_grid={&#x27;C&#x27;: [100, 10, 1.0, 0.1, 0.01],\n",
       "                         &#x27;penalty&#x27;: [&#x27;l1&#x27;, &#x27;l2&#x27;, &#x27;elasticnet&#x27;],\n",
       "                         &#x27;solver&#x27;: [&#x27;newton-cg&#x27;, &#x27;lbfgs&#x27;, &#x27;liblinear&#x27;, &#x27;sag&#x27;,\n",
       "                                    &#x27;saga&#x27;]},\n",
       "             scoring=&#x27;accuracy&#x27;)</pre><b>In a Jupyter environment, please rerun this cell to show the HTML representation or trust the notebook. <br />On GitHub, the HTML representation is unable to render, please try loading this page with nbviewer.org.</b></div><div class=\"sk-container\" hidden><div class=\"sk-item sk-dashed-wrapped\"><div class=\"sk-label-container\"><div class=\"sk-label sk-toggleable\"><input class=\"sk-toggleable__control sk-hidden--visually\" id=\"sk-estimator-id-47\" type=\"checkbox\" ><label for=\"sk-estimator-id-47\" class=\"sk-toggleable__label sk-toggleable__label-arrow\">GridSearchCV</label><div class=\"sk-toggleable__content\"><pre>GridSearchCV(cv=StratifiedKFold(n_splits=5, random_state=None, shuffle=False),\n",
       "             estimator=LogisticRegression(), n_jobs=-1,\n",
       "             param_grid={&#x27;C&#x27;: [100, 10, 1.0, 0.1, 0.01],\n",
       "                         &#x27;penalty&#x27;: [&#x27;l1&#x27;, &#x27;l2&#x27;, &#x27;elasticnet&#x27;],\n",
       "                         &#x27;solver&#x27;: [&#x27;newton-cg&#x27;, &#x27;lbfgs&#x27;, &#x27;liblinear&#x27;, &#x27;sag&#x27;,\n",
       "                                    &#x27;saga&#x27;]},\n",
       "             scoring=&#x27;accuracy&#x27;)</pre></div></div></div><div class=\"sk-parallel\"><div class=\"sk-parallel-item\"><div class=\"sk-item\"><div class=\"sk-label-container\"><div class=\"sk-label sk-toggleable\"><input class=\"sk-toggleable__control sk-hidden--visually\" id=\"sk-estimator-id-48\" type=\"checkbox\" ><label for=\"sk-estimator-id-48\" class=\"sk-toggleable__label sk-toggleable__label-arrow\">estimator: LogisticRegression</label><div class=\"sk-toggleable__content\"><pre>LogisticRegression()</pre></div></div></div><div class=\"sk-serial\"><div class=\"sk-item\"><div class=\"sk-estimator sk-toggleable\"><input class=\"sk-toggleable__control sk-hidden--visually\" id=\"sk-estimator-id-49\" type=\"checkbox\" ><label for=\"sk-estimator-id-49\" class=\"sk-toggleable__label sk-toggleable__label-arrow\">LogisticRegression</label><div class=\"sk-toggleable__content\"><pre>LogisticRegression()</pre></div></div></div></div></div></div></div></div></div></div>"
      ],
      "text/plain": [
       "GridSearchCV(cv=StratifiedKFold(n_splits=5, random_state=None, shuffle=False),\n",
       "             estimator=LogisticRegression(), n_jobs=-1,\n",
       "             param_grid={'C': [100, 10, 1.0, 0.1, 0.01],\n",
       "                         'penalty': ['l1', 'l2', 'elasticnet'],\n",
       "                         'solver': ['newton-cg', 'lbfgs', 'liblinear', 'sag',\n",
       "                                    'saga']},\n",
       "             scoring='accuracy')"
      ]
     },
     "execution_count": 130,
     "metadata": {},
     "output_type": "execute_result"
    }
   ],
   "source": [
    "grid"
   ]
  },
  {
   "cell_type": "code",
   "execution_count": 132,
   "id": "24fc3f15-4655-4678-a71c-0403f139d9ae",
   "metadata": {},
   "outputs": [
    {
     "name": "stderr",
     "output_type": "stream",
     "text": [
      "/opt/homebrew/anaconda3/lib/python3.11/site-packages/sklearn/linear_model/_sag.py:350: ConvergenceWarning: The max_iter was reached which means the coef_ did not converge\n",
      "  warnings.warn(\n",
      "/opt/homebrew/anaconda3/lib/python3.11/site-packages/sklearn/linear_model/_sag.py:350: ConvergenceWarning: The max_iter was reached which means the coef_ did not converge\n",
      "  warnings.warn(\n",
      "/opt/homebrew/anaconda3/lib/python3.11/site-packages/sklearn/linear_model/_sag.py:350: ConvergenceWarning: The max_iter was reached which means the coef_ did not converge\n",
      "  warnings.warn(\n",
      "/opt/homebrew/anaconda3/lib/python3.11/site-packages/sklearn/linear_model/_sag.py:350: ConvergenceWarning: The max_iter was reached which means the coef_ did not converge\n",
      "  warnings.warn(\n",
      "/opt/homebrew/anaconda3/lib/python3.11/site-packages/sklearn/linear_model/_sag.py:350: ConvergenceWarning: The max_iter was reached which means the coef_ did not converge\n",
      "  warnings.warn(\n",
      "/opt/homebrew/anaconda3/lib/python3.11/site-packages/sklearn/linear_model/_sag.py:350: ConvergenceWarning: The max_iter was reached which means the coef_ did not converge\n",
      "  warnings.warn(\n",
      "/opt/homebrew/anaconda3/lib/python3.11/site-packages/sklearn/linear_model/_sag.py:350: ConvergenceWarning: The max_iter was reached which means the coef_ did not converge\n",
      "  warnings.warn(\n",
      "/opt/homebrew/anaconda3/lib/python3.11/site-packages/sklearn/linear_model/_sag.py:350: ConvergenceWarning: The max_iter was reached which means the coef_ did not converge\n",
      "  warnings.warn(\n",
      "/opt/homebrew/anaconda3/lib/python3.11/site-packages/sklearn/linear_model/_sag.py:350: ConvergenceWarning: The max_iter was reached which means the coef_ did not converge\n",
      "  warnings.warn(\n",
      "/opt/homebrew/anaconda3/lib/python3.11/site-packages/sklearn/linear_model/_sag.py:350: ConvergenceWarning: The max_iter was reached which means the coef_ did not converge\n",
      "  warnings.warn(\n",
      "/opt/homebrew/anaconda3/lib/python3.11/site-packages/sklearn/model_selection/_validation.py:425: FitFailedWarning: \n",
      "200 fits failed out of a total of 375.\n",
      "The score on these train-test partitions for these parameters will be set to nan.\n",
      "If these failures are not expected, you can try to debug them by setting error_score='raise'.\n",
      "\n",
      "Below are more details about the failures:\n",
      "--------------------------------------------------------------------------------\n",
      "25 fits failed with the following error:\n",
      "Traceback (most recent call last):\n",
      "  File \"/opt/homebrew/anaconda3/lib/python3.11/site-packages/sklearn/model_selection/_validation.py\", line 732, in _fit_and_score\n",
      "    estimator.fit(X_train, y_train, **fit_params)\n",
      "  File \"/opt/homebrew/anaconda3/lib/python3.11/site-packages/sklearn/base.py\", line 1151, in wrapper\n",
      "    return fit_method(estimator, *args, **kwargs)\n",
      "           ^^^^^^^^^^^^^^^^^^^^^^^^^^^^^^^^^^^^^^\n",
      "  File \"/opt/homebrew/anaconda3/lib/python3.11/site-packages/sklearn/linear_model/_logistic.py\", line 1168, in fit\n",
      "    solver = _check_solver(self.solver, self.penalty, self.dual)\n",
      "             ^^^^^^^^^^^^^^^^^^^^^^^^^^^^^^^^^^^^^^^^^^^^^^^^^^^\n",
      "  File \"/opt/homebrew/anaconda3/lib/python3.11/site-packages/sklearn/linear_model/_logistic.py\", line 56, in _check_solver\n",
      "    raise ValueError(\n",
      "ValueError: Solver newton-cg supports only 'l2' or 'none' penalties, got l1 penalty.\n",
      "\n",
      "--------------------------------------------------------------------------------\n",
      "25 fits failed with the following error:\n",
      "Traceback (most recent call last):\n",
      "  File \"/opt/homebrew/anaconda3/lib/python3.11/site-packages/sklearn/model_selection/_validation.py\", line 732, in _fit_and_score\n",
      "    estimator.fit(X_train, y_train, **fit_params)\n",
      "  File \"/opt/homebrew/anaconda3/lib/python3.11/site-packages/sklearn/base.py\", line 1151, in wrapper\n",
      "    return fit_method(estimator, *args, **kwargs)\n",
      "           ^^^^^^^^^^^^^^^^^^^^^^^^^^^^^^^^^^^^^^\n",
      "  File \"/opt/homebrew/anaconda3/lib/python3.11/site-packages/sklearn/linear_model/_logistic.py\", line 1168, in fit\n",
      "    solver = _check_solver(self.solver, self.penalty, self.dual)\n",
      "             ^^^^^^^^^^^^^^^^^^^^^^^^^^^^^^^^^^^^^^^^^^^^^^^^^^^\n",
      "  File \"/opt/homebrew/anaconda3/lib/python3.11/site-packages/sklearn/linear_model/_logistic.py\", line 56, in _check_solver\n",
      "    raise ValueError(\n",
      "ValueError: Solver lbfgs supports only 'l2' or 'none' penalties, got l1 penalty.\n",
      "\n",
      "--------------------------------------------------------------------------------\n",
      "25 fits failed with the following error:\n",
      "Traceback (most recent call last):\n",
      "  File \"/opt/homebrew/anaconda3/lib/python3.11/site-packages/sklearn/model_selection/_validation.py\", line 732, in _fit_and_score\n",
      "    estimator.fit(X_train, y_train, **fit_params)\n",
      "  File \"/opt/homebrew/anaconda3/lib/python3.11/site-packages/sklearn/base.py\", line 1151, in wrapper\n",
      "    return fit_method(estimator, *args, **kwargs)\n",
      "           ^^^^^^^^^^^^^^^^^^^^^^^^^^^^^^^^^^^^^^\n",
      "  File \"/opt/homebrew/anaconda3/lib/python3.11/site-packages/sklearn/linear_model/_logistic.py\", line 1168, in fit\n",
      "    solver = _check_solver(self.solver, self.penalty, self.dual)\n",
      "             ^^^^^^^^^^^^^^^^^^^^^^^^^^^^^^^^^^^^^^^^^^^^^^^^^^^\n",
      "  File \"/opt/homebrew/anaconda3/lib/python3.11/site-packages/sklearn/linear_model/_logistic.py\", line 56, in _check_solver\n",
      "    raise ValueError(\n",
      "ValueError: Solver sag supports only 'l2' or 'none' penalties, got l1 penalty.\n",
      "\n",
      "--------------------------------------------------------------------------------\n",
      "25 fits failed with the following error:\n",
      "Traceback (most recent call last):\n",
      "  File \"/opt/homebrew/anaconda3/lib/python3.11/site-packages/sklearn/model_selection/_validation.py\", line 732, in _fit_and_score\n",
      "    estimator.fit(X_train, y_train, **fit_params)\n",
      "  File \"/opt/homebrew/anaconda3/lib/python3.11/site-packages/sklearn/base.py\", line 1151, in wrapper\n",
      "    return fit_method(estimator, *args, **kwargs)\n",
      "           ^^^^^^^^^^^^^^^^^^^^^^^^^^^^^^^^^^^^^^\n",
      "  File \"/opt/homebrew/anaconda3/lib/python3.11/site-packages/sklearn/linear_model/_logistic.py\", line 1168, in fit\n",
      "    solver = _check_solver(self.solver, self.penalty, self.dual)\n",
      "             ^^^^^^^^^^^^^^^^^^^^^^^^^^^^^^^^^^^^^^^^^^^^^^^^^^^\n",
      "  File \"/opt/homebrew/anaconda3/lib/python3.11/site-packages/sklearn/linear_model/_logistic.py\", line 56, in _check_solver\n",
      "    raise ValueError(\n",
      "ValueError: Solver newton-cg supports only 'l2' or 'none' penalties, got elasticnet penalty.\n",
      "\n",
      "--------------------------------------------------------------------------------\n",
      "25 fits failed with the following error:\n",
      "Traceback (most recent call last):\n",
      "  File \"/opt/homebrew/anaconda3/lib/python3.11/site-packages/sklearn/model_selection/_validation.py\", line 732, in _fit_and_score\n",
      "    estimator.fit(X_train, y_train, **fit_params)\n",
      "  File \"/opt/homebrew/anaconda3/lib/python3.11/site-packages/sklearn/base.py\", line 1151, in wrapper\n",
      "    return fit_method(estimator, *args, **kwargs)\n",
      "           ^^^^^^^^^^^^^^^^^^^^^^^^^^^^^^^^^^^^^^\n",
      "  File \"/opt/homebrew/anaconda3/lib/python3.11/site-packages/sklearn/linear_model/_logistic.py\", line 1168, in fit\n",
      "    solver = _check_solver(self.solver, self.penalty, self.dual)\n",
      "             ^^^^^^^^^^^^^^^^^^^^^^^^^^^^^^^^^^^^^^^^^^^^^^^^^^^\n",
      "  File \"/opt/homebrew/anaconda3/lib/python3.11/site-packages/sklearn/linear_model/_logistic.py\", line 56, in _check_solver\n",
      "    raise ValueError(\n",
      "ValueError: Solver lbfgs supports only 'l2' or 'none' penalties, got elasticnet penalty.\n",
      "\n",
      "--------------------------------------------------------------------------------\n",
      "25 fits failed with the following error:\n",
      "Traceback (most recent call last):\n",
      "  File \"/opt/homebrew/anaconda3/lib/python3.11/site-packages/sklearn/model_selection/_validation.py\", line 732, in _fit_and_score\n",
      "    estimator.fit(X_train, y_train, **fit_params)\n",
      "  File \"/opt/homebrew/anaconda3/lib/python3.11/site-packages/sklearn/base.py\", line 1151, in wrapper\n",
      "    return fit_method(estimator, *args, **kwargs)\n",
      "           ^^^^^^^^^^^^^^^^^^^^^^^^^^^^^^^^^^^^^^\n",
      "  File \"/opt/homebrew/anaconda3/lib/python3.11/site-packages/sklearn/linear_model/_logistic.py\", line 1168, in fit\n",
      "    solver = _check_solver(self.solver, self.penalty, self.dual)\n",
      "             ^^^^^^^^^^^^^^^^^^^^^^^^^^^^^^^^^^^^^^^^^^^^^^^^^^^\n",
      "  File \"/opt/homebrew/anaconda3/lib/python3.11/site-packages/sklearn/linear_model/_logistic.py\", line 66, in _check_solver\n",
      "    raise ValueError(\n",
      "ValueError: Only 'saga' solver supports elasticnet penalty, got solver=liblinear.\n",
      "\n",
      "--------------------------------------------------------------------------------\n",
      "25 fits failed with the following error:\n",
      "Traceback (most recent call last):\n",
      "  File \"/opt/homebrew/anaconda3/lib/python3.11/site-packages/sklearn/model_selection/_validation.py\", line 732, in _fit_and_score\n",
      "    estimator.fit(X_train, y_train, **fit_params)\n",
      "  File \"/opt/homebrew/anaconda3/lib/python3.11/site-packages/sklearn/base.py\", line 1151, in wrapper\n",
      "    return fit_method(estimator, *args, **kwargs)\n",
      "           ^^^^^^^^^^^^^^^^^^^^^^^^^^^^^^^^^^^^^^\n",
      "  File \"/opt/homebrew/anaconda3/lib/python3.11/site-packages/sklearn/linear_model/_logistic.py\", line 1168, in fit\n",
      "    solver = _check_solver(self.solver, self.penalty, self.dual)\n",
      "             ^^^^^^^^^^^^^^^^^^^^^^^^^^^^^^^^^^^^^^^^^^^^^^^^^^^\n",
      "  File \"/opt/homebrew/anaconda3/lib/python3.11/site-packages/sklearn/linear_model/_logistic.py\", line 56, in _check_solver\n",
      "    raise ValueError(\n",
      "ValueError: Solver sag supports only 'l2' or 'none' penalties, got elasticnet penalty.\n",
      "\n",
      "--------------------------------------------------------------------------------\n",
      "25 fits failed with the following error:\n",
      "Traceback (most recent call last):\n",
      "  File \"/opt/homebrew/anaconda3/lib/python3.11/site-packages/sklearn/model_selection/_validation.py\", line 732, in _fit_and_score\n",
      "    estimator.fit(X_train, y_train, **fit_params)\n",
      "  File \"/opt/homebrew/anaconda3/lib/python3.11/site-packages/sklearn/base.py\", line 1151, in wrapper\n",
      "    return fit_method(estimator, *args, **kwargs)\n",
      "           ^^^^^^^^^^^^^^^^^^^^^^^^^^^^^^^^^^^^^^\n",
      "  File \"/opt/homebrew/anaconda3/lib/python3.11/site-packages/sklearn/linear_model/_logistic.py\", line 1178, in fit\n",
      "    raise ValueError(\"l1_ratio must be specified when penalty is elasticnet.\")\n",
      "ValueError: l1_ratio must be specified when penalty is elasticnet.\n",
      "\n",
      "  warnings.warn(some_fits_failed_message, FitFailedWarning)\n",
      "/opt/homebrew/anaconda3/lib/python3.11/site-packages/sklearn/model_selection/_search.py:976: UserWarning: One or more of the test scores are non-finite: [       nan        nan 0.87              nan 0.87       0.87\n",
      " 0.87       0.87       0.87       0.87              nan        nan\n",
      "        nan        nan        nan        nan        nan 0.87\n",
      "        nan 0.87       0.87       0.87       0.87       0.87\n",
      " 0.87              nan        nan        nan        nan        nan\n",
      "        nan        nan 0.87              nan 0.87       0.87\n",
      " 0.87       0.87       0.87       0.87              nan        nan\n",
      "        nan        nan        nan        nan        nan 0.87428571\n",
      "        nan 0.87       0.87285714 0.87285714 0.87428571 0.87285714\n",
      " 0.87285714        nan        nan        nan        nan        nan\n",
      "        nan        nan 0.87              nan 0.87       0.87857143\n",
      " 0.87714286 0.87714286 0.87714286 0.87857143        nan        nan\n",
      "        nan        nan        nan]\n",
      "  warnings.warn(\n"
     ]
    },
    {
     "data": {
      "text/html": [
       "<style>#sk-container-id-18 {color: black;}#sk-container-id-18 pre{padding: 0;}#sk-container-id-18 div.sk-toggleable {background-color: white;}#sk-container-id-18 label.sk-toggleable__label {cursor: pointer;display: block;width: 100%;margin-bottom: 0;padding: 0.3em;box-sizing: border-box;text-align: center;}#sk-container-id-18 label.sk-toggleable__label-arrow:before {content: \"▸\";float: left;margin-right: 0.25em;color: #696969;}#sk-container-id-18 label.sk-toggleable__label-arrow:hover:before {color: black;}#sk-container-id-18 div.sk-estimator:hover label.sk-toggleable__label-arrow:before {color: black;}#sk-container-id-18 div.sk-toggleable__content {max-height: 0;max-width: 0;overflow: hidden;text-align: left;background-color: #f0f8ff;}#sk-container-id-18 div.sk-toggleable__content pre {margin: 0.2em;color: black;border-radius: 0.25em;background-color: #f0f8ff;}#sk-container-id-18 input.sk-toggleable__control:checked~div.sk-toggleable__content {max-height: 200px;max-width: 100%;overflow: auto;}#sk-container-id-18 input.sk-toggleable__control:checked~label.sk-toggleable__label-arrow:before {content: \"▾\";}#sk-container-id-18 div.sk-estimator input.sk-toggleable__control:checked~label.sk-toggleable__label {background-color: #d4ebff;}#sk-container-id-18 div.sk-label input.sk-toggleable__control:checked~label.sk-toggleable__label {background-color: #d4ebff;}#sk-container-id-18 input.sk-hidden--visually {border: 0;clip: rect(1px 1px 1px 1px);clip: rect(1px, 1px, 1px, 1px);height: 1px;margin: -1px;overflow: hidden;padding: 0;position: absolute;width: 1px;}#sk-container-id-18 div.sk-estimator {font-family: monospace;background-color: #f0f8ff;border: 1px dotted black;border-radius: 0.25em;box-sizing: border-box;margin-bottom: 0.5em;}#sk-container-id-18 div.sk-estimator:hover {background-color: #d4ebff;}#sk-container-id-18 div.sk-parallel-item::after {content: \"\";width: 100%;border-bottom: 1px solid gray;flex-grow: 1;}#sk-container-id-18 div.sk-label:hover label.sk-toggleable__label {background-color: #d4ebff;}#sk-container-id-18 div.sk-serial::before {content: \"\";position: absolute;border-left: 1px solid gray;box-sizing: border-box;top: 0;bottom: 0;left: 50%;z-index: 0;}#sk-container-id-18 div.sk-serial {display: flex;flex-direction: column;align-items: center;background-color: white;padding-right: 0.2em;padding-left: 0.2em;position: relative;}#sk-container-id-18 div.sk-item {position: relative;z-index: 1;}#sk-container-id-18 div.sk-parallel {display: flex;align-items: stretch;justify-content: center;background-color: white;position: relative;}#sk-container-id-18 div.sk-item::before, #sk-container-id-18 div.sk-parallel-item::before {content: \"\";position: absolute;border-left: 1px solid gray;box-sizing: border-box;top: 0;bottom: 0;left: 50%;z-index: -1;}#sk-container-id-18 div.sk-parallel-item {display: flex;flex-direction: column;z-index: 1;position: relative;background-color: white;}#sk-container-id-18 div.sk-parallel-item:first-child::after {align-self: flex-end;width: 50%;}#sk-container-id-18 div.sk-parallel-item:last-child::after {align-self: flex-start;width: 50%;}#sk-container-id-18 div.sk-parallel-item:only-child::after {width: 0;}#sk-container-id-18 div.sk-dashed-wrapped {border: 1px dashed gray;margin: 0 0.4em 0.5em 0.4em;box-sizing: border-box;padding-bottom: 0.4em;background-color: white;}#sk-container-id-18 div.sk-label label {font-family: monospace;font-weight: bold;display: inline-block;line-height: 1.2em;}#sk-container-id-18 div.sk-label-container {text-align: center;}#sk-container-id-18 div.sk-container {/* jupyter's `normalize.less` sets `[hidden] { display: none; }` but bootstrap.min.css set `[hidden] { display: none !important; }` so we also need the `!important` here to be able to override the default hidden behavior on the sphinx rendered scikit-learn.org. See: https://github.com/scikit-learn/scikit-learn/issues/21755 */display: inline-block !important;position: relative;}#sk-container-id-18 div.sk-text-repr-fallback {display: none;}</style><div id=\"sk-container-id-18\" class=\"sk-top-container\"><div class=\"sk-text-repr-fallback\"><pre>GridSearchCV(cv=StratifiedKFold(n_splits=5, random_state=None, shuffle=False),\n",
       "             estimator=LogisticRegression(), n_jobs=-1,\n",
       "             param_grid={&#x27;C&#x27;: [100, 10, 1.0, 0.1, 0.01],\n",
       "                         &#x27;penalty&#x27;: [&#x27;l1&#x27;, &#x27;l2&#x27;, &#x27;elasticnet&#x27;],\n",
       "                         &#x27;solver&#x27;: [&#x27;newton-cg&#x27;, &#x27;lbfgs&#x27;, &#x27;liblinear&#x27;, &#x27;sag&#x27;,\n",
       "                                    &#x27;saga&#x27;]},\n",
       "             scoring=&#x27;accuracy&#x27;)</pre><b>In a Jupyter environment, please rerun this cell to show the HTML representation or trust the notebook. <br />On GitHub, the HTML representation is unable to render, please try loading this page with nbviewer.org.</b></div><div class=\"sk-container\" hidden><div class=\"sk-item sk-dashed-wrapped\"><div class=\"sk-label-container\"><div class=\"sk-label sk-toggleable\"><input class=\"sk-toggleable__control sk-hidden--visually\" id=\"sk-estimator-id-50\" type=\"checkbox\" ><label for=\"sk-estimator-id-50\" class=\"sk-toggleable__label sk-toggleable__label-arrow\">GridSearchCV</label><div class=\"sk-toggleable__content\"><pre>GridSearchCV(cv=StratifiedKFold(n_splits=5, random_state=None, shuffle=False),\n",
       "             estimator=LogisticRegression(), n_jobs=-1,\n",
       "             param_grid={&#x27;C&#x27;: [100, 10, 1.0, 0.1, 0.01],\n",
       "                         &#x27;penalty&#x27;: [&#x27;l1&#x27;, &#x27;l2&#x27;, &#x27;elasticnet&#x27;],\n",
       "                         &#x27;solver&#x27;: [&#x27;newton-cg&#x27;, &#x27;lbfgs&#x27;, &#x27;liblinear&#x27;, &#x27;sag&#x27;,\n",
       "                                    &#x27;saga&#x27;]},\n",
       "             scoring=&#x27;accuracy&#x27;)</pre></div></div></div><div class=\"sk-parallel\"><div class=\"sk-parallel-item\"><div class=\"sk-item\"><div class=\"sk-label-container\"><div class=\"sk-label sk-toggleable\"><input class=\"sk-toggleable__control sk-hidden--visually\" id=\"sk-estimator-id-51\" type=\"checkbox\" ><label for=\"sk-estimator-id-51\" class=\"sk-toggleable__label sk-toggleable__label-arrow\">estimator: LogisticRegression</label><div class=\"sk-toggleable__content\"><pre>LogisticRegression()</pre></div></div></div><div class=\"sk-serial\"><div class=\"sk-item\"><div class=\"sk-estimator sk-toggleable\"><input class=\"sk-toggleable__control sk-hidden--visually\" id=\"sk-estimator-id-52\" type=\"checkbox\" ><label for=\"sk-estimator-id-52\" class=\"sk-toggleable__label sk-toggleable__label-arrow\">LogisticRegression</label><div class=\"sk-toggleable__content\"><pre>LogisticRegression()</pre></div></div></div></div></div></div></div></div></div></div>"
      ],
      "text/plain": [
       "GridSearchCV(cv=StratifiedKFold(n_splits=5, random_state=None, shuffle=False),\n",
       "             estimator=LogisticRegression(), n_jobs=-1,\n",
       "             param_grid={'C': [100, 10, 1.0, 0.1, 0.01],\n",
       "                         'penalty': ['l1', 'l2', 'elasticnet'],\n",
       "                         'solver': ['newton-cg', 'lbfgs', 'liblinear', 'sag',\n",
       "                                    'saga']},\n",
       "             scoring='accuracy')"
      ]
     },
     "execution_count": 132,
     "metadata": {},
     "output_type": "execute_result"
    }
   ],
   "source": [
    "grid.fit(X_train,Y_train)"
   ]
  },
  {
   "cell_type": "code",
   "execution_count": 134,
   "id": "e3e03f91-af5b-4404-8f4f-e5bae59c5527",
   "metadata": {},
   "outputs": [
    {
     "data": {
      "text/plain": [
       "{'C': 0.01, 'penalty': 'l2', 'solver': 'newton-cg'}"
      ]
     },
     "execution_count": 134,
     "metadata": {},
     "output_type": "execute_result"
    }
   ],
   "source": [
    "grid.best_params_#this means the paramtwre which can be used for hyperparameter tuning\n",
    "#based on the accuracy score"
   ]
  },
  {
   "cell_type": "code",
   "execution_count": 136,
   "id": "5cd81538-4584-4f24-a07d-30c0ed588894",
   "metadata": {},
   "outputs": [
    {
     "data": {
      "text/plain": [
       "0.8785714285714287"
      ]
     },
     "execution_count": 136,
     "metadata": {},
     "output_type": "execute_result"
    }
   ],
   "source": [
    "#provides the best cross-validated score achieved during the \n",
    "#search over the specified parameter grid.\n",
    "\n",
    "grid.best_score_"
   ]
  },
  {
   "cell_type": "code",
   "execution_count": 144,
   "id": "9f71cdba-5e7f-49f8-bb32-caaf51e0d1f5",
   "metadata": {},
   "outputs": [],
   "source": [
    "Y_pred= grid.predict(X_test)"
   ]
  },
  {
   "cell_type": "code",
   "execution_count": 146,
   "id": "103a4e6a-fadf-4af8-9f80-dfd07dcbe54f",
   "metadata": {},
   "outputs": [
    {
     "name": "stdout",
     "output_type": "stream",
     "text": [
      "0.8533333333333334\n",
      "[[124  11]\n",
      " [ 33 132]]\n",
      "              precision    recall  f1-score   support\n",
      "\n",
      "           0       0.79      0.92      0.85       135\n",
      "           1       0.92      0.80      0.86       165\n",
      "\n",
      "    accuracy                           0.85       300\n",
      "   macro avg       0.86      0.86      0.85       300\n",
      "weighted avg       0.86      0.85      0.85       300\n",
      "\n"
     ]
    }
   ],
   "source": [
    "score = accuracy_score(Y_test,Y_pred)\n",
    "cm = confusion_matrix(Y_test,Y_pred)\n",
    "report = classification_report(Y_test,Y_pred)\n",
    "print (score)\n",
    "print(cm)\n",
    "print(report)"
   ]
  },
  {
   "cell_type": "markdown",
   "id": "024e65fd-8270-4ee5-8d1f-939a6f30f002",
   "metadata": {},
   "source": [
    "##Randamised Serch CV"
   ]
  },
  {
   "cell_type": "code",
   "execution_count": 150,
   "id": "9540de9f-edf2-48d0-b2cd-84ab6cc47057",
   "metadata": {},
   "outputs": [],
   "source": [
    "##Randamised Serch CV\n",
    "from sklearn.model_selection import RandomizedSearchCV"
   ]
  },
  {
   "cell_type": "code",
   "execution_count": 160,
   "id": "c0d1f598-01d7-4f1d-942f-bc43de8548f6",
   "metadata": {},
   "outputs": [],
   "source": [
    "model = LogisticRegression()\n",
    "randomcv=RandomizedSearchCV(estimator=model,param_distributions=params,cv=5,scoring = 'accuracy')"
   ]
  },
  {
   "cell_type": "code",
   "execution_count": 162,
   "id": "b8a1f218-dabd-4858-af86-bcfc64f993e5",
   "metadata": {},
   "outputs": [
    {
     "name": "stderr",
     "output_type": "stream",
     "text": [
      "/opt/homebrew/anaconda3/lib/python3.11/site-packages/sklearn/model_selection/_validation.py:425: FitFailedWarning: \n",
      "30 fits failed out of a total of 50.\n",
      "The score on these train-test partitions for these parameters will be set to nan.\n",
      "If these failures are not expected, you can try to debug them by setting error_score='raise'.\n",
      "\n",
      "Below are more details about the failures:\n",
      "--------------------------------------------------------------------------------\n",
      "10 fits failed with the following error:\n",
      "Traceback (most recent call last):\n",
      "  File \"/opt/homebrew/anaconda3/lib/python3.11/site-packages/sklearn/model_selection/_validation.py\", line 732, in _fit_and_score\n",
      "    estimator.fit(X_train, y_train, **fit_params)\n",
      "  File \"/opt/homebrew/anaconda3/lib/python3.11/site-packages/sklearn/base.py\", line 1151, in wrapper\n",
      "    return fit_method(estimator, *args, **kwargs)\n",
      "           ^^^^^^^^^^^^^^^^^^^^^^^^^^^^^^^^^^^^^^\n",
      "  File \"/opt/homebrew/anaconda3/lib/python3.11/site-packages/sklearn/linear_model/_logistic.py\", line 1178, in fit\n",
      "    raise ValueError(\"l1_ratio must be specified when penalty is elasticnet.\")\n",
      "ValueError: l1_ratio must be specified when penalty is elasticnet.\n",
      "\n",
      "--------------------------------------------------------------------------------\n",
      "5 fits failed with the following error:\n",
      "Traceback (most recent call last):\n",
      "  File \"/opt/homebrew/anaconda3/lib/python3.11/site-packages/sklearn/model_selection/_validation.py\", line 732, in _fit_and_score\n",
      "    estimator.fit(X_train, y_train, **fit_params)\n",
      "  File \"/opt/homebrew/anaconda3/lib/python3.11/site-packages/sklearn/base.py\", line 1151, in wrapper\n",
      "    return fit_method(estimator, *args, **kwargs)\n",
      "           ^^^^^^^^^^^^^^^^^^^^^^^^^^^^^^^^^^^^^^\n",
      "  File \"/opt/homebrew/anaconda3/lib/python3.11/site-packages/sklearn/linear_model/_logistic.py\", line 1168, in fit\n",
      "    solver = _check_solver(self.solver, self.penalty, self.dual)\n",
      "             ^^^^^^^^^^^^^^^^^^^^^^^^^^^^^^^^^^^^^^^^^^^^^^^^^^^\n",
      "  File \"/opt/homebrew/anaconda3/lib/python3.11/site-packages/sklearn/linear_model/_logistic.py\", line 56, in _check_solver\n",
      "    raise ValueError(\n",
      "ValueError: Solver newton-cg supports only 'l2' or 'none' penalties, got l1 penalty.\n",
      "\n",
      "--------------------------------------------------------------------------------\n",
      "10 fits failed with the following error:\n",
      "Traceback (most recent call last):\n",
      "  File \"/opt/homebrew/anaconda3/lib/python3.11/site-packages/sklearn/model_selection/_validation.py\", line 732, in _fit_and_score\n",
      "    estimator.fit(X_train, y_train, **fit_params)\n",
      "  File \"/opt/homebrew/anaconda3/lib/python3.11/site-packages/sklearn/base.py\", line 1151, in wrapper\n",
      "    return fit_method(estimator, *args, **kwargs)\n",
      "           ^^^^^^^^^^^^^^^^^^^^^^^^^^^^^^^^^^^^^^\n",
      "  File \"/opt/homebrew/anaconda3/lib/python3.11/site-packages/sklearn/linear_model/_logistic.py\", line 1168, in fit\n",
      "    solver = _check_solver(self.solver, self.penalty, self.dual)\n",
      "             ^^^^^^^^^^^^^^^^^^^^^^^^^^^^^^^^^^^^^^^^^^^^^^^^^^^\n",
      "  File \"/opt/homebrew/anaconda3/lib/python3.11/site-packages/sklearn/linear_model/_logistic.py\", line 56, in _check_solver\n",
      "    raise ValueError(\n",
      "ValueError: Solver sag supports only 'l2' or 'none' penalties, got l1 penalty.\n",
      "\n",
      "--------------------------------------------------------------------------------\n",
      "5 fits failed with the following error:\n",
      "Traceback (most recent call last):\n",
      "  File \"/opt/homebrew/anaconda3/lib/python3.11/site-packages/sklearn/model_selection/_validation.py\", line 732, in _fit_and_score\n",
      "    estimator.fit(X_train, y_train, **fit_params)\n",
      "  File \"/opt/homebrew/anaconda3/lib/python3.11/site-packages/sklearn/base.py\", line 1151, in wrapper\n",
      "    return fit_method(estimator, *args, **kwargs)\n",
      "           ^^^^^^^^^^^^^^^^^^^^^^^^^^^^^^^^^^^^^^\n",
      "  File \"/opt/homebrew/anaconda3/lib/python3.11/site-packages/sklearn/linear_model/_logistic.py\", line 1168, in fit\n",
      "    solver = _check_solver(self.solver, self.penalty, self.dual)\n",
      "             ^^^^^^^^^^^^^^^^^^^^^^^^^^^^^^^^^^^^^^^^^^^^^^^^^^^\n",
      "  File \"/opt/homebrew/anaconda3/lib/python3.11/site-packages/sklearn/linear_model/_logistic.py\", line 66, in _check_solver\n",
      "    raise ValueError(\n",
      "ValueError: Only 'saga' solver supports elasticnet penalty, got solver=liblinear.\n",
      "\n",
      "  warnings.warn(some_fits_failed_message, FitFailedWarning)\n",
      "/opt/homebrew/anaconda3/lib/python3.11/site-packages/sklearn/model_selection/_search.py:976: UserWarning: One or more of the test scores are non-finite: [       nan        nan        nan 0.87       0.87       0.87857143\n",
      "        nan        nan        nan 0.87285714]\n",
      "  warnings.warn(\n"
     ]
    },
    {
     "data": {
      "text/html": [
       "<style>#sk-container-id-19 {color: black;}#sk-container-id-19 pre{padding: 0;}#sk-container-id-19 div.sk-toggleable {background-color: white;}#sk-container-id-19 label.sk-toggleable__label {cursor: pointer;display: block;width: 100%;margin-bottom: 0;padding: 0.3em;box-sizing: border-box;text-align: center;}#sk-container-id-19 label.sk-toggleable__label-arrow:before {content: \"▸\";float: left;margin-right: 0.25em;color: #696969;}#sk-container-id-19 label.sk-toggleable__label-arrow:hover:before {color: black;}#sk-container-id-19 div.sk-estimator:hover label.sk-toggleable__label-arrow:before {color: black;}#sk-container-id-19 div.sk-toggleable__content {max-height: 0;max-width: 0;overflow: hidden;text-align: left;background-color: #f0f8ff;}#sk-container-id-19 div.sk-toggleable__content pre {margin: 0.2em;color: black;border-radius: 0.25em;background-color: #f0f8ff;}#sk-container-id-19 input.sk-toggleable__control:checked~div.sk-toggleable__content {max-height: 200px;max-width: 100%;overflow: auto;}#sk-container-id-19 input.sk-toggleable__control:checked~label.sk-toggleable__label-arrow:before {content: \"▾\";}#sk-container-id-19 div.sk-estimator input.sk-toggleable__control:checked~label.sk-toggleable__label {background-color: #d4ebff;}#sk-container-id-19 div.sk-label input.sk-toggleable__control:checked~label.sk-toggleable__label {background-color: #d4ebff;}#sk-container-id-19 input.sk-hidden--visually {border: 0;clip: rect(1px 1px 1px 1px);clip: rect(1px, 1px, 1px, 1px);height: 1px;margin: -1px;overflow: hidden;padding: 0;position: absolute;width: 1px;}#sk-container-id-19 div.sk-estimator {font-family: monospace;background-color: #f0f8ff;border: 1px dotted black;border-radius: 0.25em;box-sizing: border-box;margin-bottom: 0.5em;}#sk-container-id-19 div.sk-estimator:hover {background-color: #d4ebff;}#sk-container-id-19 div.sk-parallel-item::after {content: \"\";width: 100%;border-bottom: 1px solid gray;flex-grow: 1;}#sk-container-id-19 div.sk-label:hover label.sk-toggleable__label {background-color: #d4ebff;}#sk-container-id-19 div.sk-serial::before {content: \"\";position: absolute;border-left: 1px solid gray;box-sizing: border-box;top: 0;bottom: 0;left: 50%;z-index: 0;}#sk-container-id-19 div.sk-serial {display: flex;flex-direction: column;align-items: center;background-color: white;padding-right: 0.2em;padding-left: 0.2em;position: relative;}#sk-container-id-19 div.sk-item {position: relative;z-index: 1;}#sk-container-id-19 div.sk-parallel {display: flex;align-items: stretch;justify-content: center;background-color: white;position: relative;}#sk-container-id-19 div.sk-item::before, #sk-container-id-19 div.sk-parallel-item::before {content: \"\";position: absolute;border-left: 1px solid gray;box-sizing: border-box;top: 0;bottom: 0;left: 50%;z-index: -1;}#sk-container-id-19 div.sk-parallel-item {display: flex;flex-direction: column;z-index: 1;position: relative;background-color: white;}#sk-container-id-19 div.sk-parallel-item:first-child::after {align-self: flex-end;width: 50%;}#sk-container-id-19 div.sk-parallel-item:last-child::after {align-self: flex-start;width: 50%;}#sk-container-id-19 div.sk-parallel-item:only-child::after {width: 0;}#sk-container-id-19 div.sk-dashed-wrapped {border: 1px dashed gray;margin: 0 0.4em 0.5em 0.4em;box-sizing: border-box;padding-bottom: 0.4em;background-color: white;}#sk-container-id-19 div.sk-label label {font-family: monospace;font-weight: bold;display: inline-block;line-height: 1.2em;}#sk-container-id-19 div.sk-label-container {text-align: center;}#sk-container-id-19 div.sk-container {/* jupyter's `normalize.less` sets `[hidden] { display: none; }` but bootstrap.min.css set `[hidden] { display: none !important; }` so we also need the `!important` here to be able to override the default hidden behavior on the sphinx rendered scikit-learn.org. See: https://github.com/scikit-learn/scikit-learn/issues/21755 */display: inline-block !important;position: relative;}#sk-container-id-19 div.sk-text-repr-fallback {display: none;}</style><div id=\"sk-container-id-19\" class=\"sk-top-container\"><div class=\"sk-text-repr-fallback\"><pre>RandomizedSearchCV(cv=5, estimator=LogisticRegression(),\n",
       "                   param_distributions={&#x27;C&#x27;: [100, 10, 1.0, 0.1, 0.01],\n",
       "                                        &#x27;penalty&#x27;: [&#x27;l1&#x27;, &#x27;l2&#x27;, &#x27;elasticnet&#x27;],\n",
       "                                        &#x27;solver&#x27;: [&#x27;newton-cg&#x27;, &#x27;lbfgs&#x27;,\n",
       "                                                   &#x27;liblinear&#x27;, &#x27;sag&#x27;,\n",
       "                                                   &#x27;saga&#x27;]},\n",
       "                   scoring=&#x27;accuracy&#x27;)</pre><b>In a Jupyter environment, please rerun this cell to show the HTML representation or trust the notebook. <br />On GitHub, the HTML representation is unable to render, please try loading this page with nbviewer.org.</b></div><div class=\"sk-container\" hidden><div class=\"sk-item sk-dashed-wrapped\"><div class=\"sk-label-container\"><div class=\"sk-label sk-toggleable\"><input class=\"sk-toggleable__control sk-hidden--visually\" id=\"sk-estimator-id-53\" type=\"checkbox\" ><label for=\"sk-estimator-id-53\" class=\"sk-toggleable__label sk-toggleable__label-arrow\">RandomizedSearchCV</label><div class=\"sk-toggleable__content\"><pre>RandomizedSearchCV(cv=5, estimator=LogisticRegression(),\n",
       "                   param_distributions={&#x27;C&#x27;: [100, 10, 1.0, 0.1, 0.01],\n",
       "                                        &#x27;penalty&#x27;: [&#x27;l1&#x27;, &#x27;l2&#x27;, &#x27;elasticnet&#x27;],\n",
       "                                        &#x27;solver&#x27;: [&#x27;newton-cg&#x27;, &#x27;lbfgs&#x27;,\n",
       "                                                   &#x27;liblinear&#x27;, &#x27;sag&#x27;,\n",
       "                                                   &#x27;saga&#x27;]},\n",
       "                   scoring=&#x27;accuracy&#x27;)</pre></div></div></div><div class=\"sk-parallel\"><div class=\"sk-parallel-item\"><div class=\"sk-item\"><div class=\"sk-label-container\"><div class=\"sk-label sk-toggleable\"><input class=\"sk-toggleable__control sk-hidden--visually\" id=\"sk-estimator-id-54\" type=\"checkbox\" ><label for=\"sk-estimator-id-54\" class=\"sk-toggleable__label sk-toggleable__label-arrow\">estimator: LogisticRegression</label><div class=\"sk-toggleable__content\"><pre>LogisticRegression()</pre></div></div></div><div class=\"sk-serial\"><div class=\"sk-item\"><div class=\"sk-estimator sk-toggleable\"><input class=\"sk-toggleable__control sk-hidden--visually\" id=\"sk-estimator-id-55\" type=\"checkbox\" ><label for=\"sk-estimator-id-55\" class=\"sk-toggleable__label sk-toggleable__label-arrow\">LogisticRegression</label><div class=\"sk-toggleable__content\"><pre>LogisticRegression()</pre></div></div></div></div></div></div></div></div></div></div>"
      ],
      "text/plain": [
       "RandomizedSearchCV(cv=5, estimator=LogisticRegression(),\n",
       "                   param_distributions={'C': [100, 10, 1.0, 0.1, 0.01],\n",
       "                                        'penalty': ['l1', 'l2', 'elasticnet'],\n",
       "                                        'solver': ['newton-cg', 'lbfgs',\n",
       "                                                   'liblinear', 'sag',\n",
       "                                                   'saga']},\n",
       "                   scoring='accuracy')"
      ]
     },
     "execution_count": 162,
     "metadata": {},
     "output_type": "execute_result"
    }
   ],
   "source": [
    "randomcv.fit(X_train,Y_train)"
   ]
  },
  {
   "cell_type": "code",
   "execution_count": 164,
   "id": "e54bf2a6-580f-48c1-893a-ed6a08ba62c4",
   "metadata": {},
   "outputs": [
    {
     "data": {
      "text/plain": [
       "0.8785714285714287"
      ]
     },
     "execution_count": 164,
     "metadata": {},
     "output_type": "execute_result"
    }
   ],
   "source": [
    "randomcv.best_score_"
   ]
  },
  {
   "cell_type": "code",
   "execution_count": 172,
   "id": "c61c6c0c-ad32-4a56-8944-363e795b28f2",
   "metadata": {},
   "outputs": [
    {
     "data": {
      "text/plain": [
       "{'solver': 'newton-cg', 'penalty': 'l2', 'C': 0.01}"
      ]
     },
     "execution_count": 172,
     "metadata": {},
     "output_type": "execute_result"
    }
   ],
   "source": [
    "randomcv.best_params_"
   ]
  },
  {
   "cell_type": "code",
   "execution_count": 192,
   "id": "3f53ed4d-c154-49ed-a929-8b0f44190a31",
   "metadata": {},
   "outputs": [],
   "source": [
    "y_pred= randomcv.predict(X_test)"
   ]
  },
  {
   "cell_type": "code",
   "execution_count": 194,
   "id": "4fe8e168-e0dd-4f22-86af-aa4beb53676a",
   "metadata": {},
   "outputs": [
    {
     "name": "stdout",
     "output_type": "stream",
     "text": [
      "0.8533333333333334\n",
      "[[124  11]\n",
      " [ 33 132]]\n",
      "              precision    recall  f1-score   support\n",
      "\n",
      "           0       0.79      0.92      0.85       135\n",
      "           1       0.92      0.80      0.86       165\n",
      "\n",
      "    accuracy                           0.85       300\n",
      "   macro avg       0.86      0.86      0.85       300\n",
      "weighted avg       0.86      0.85      0.85       300\n",
      "\n"
     ]
    }
   ],
   "source": [
    "score = accuracy_score(Y_test,y_pred)\n",
    "cm = confusion_matrix(Y_test,y_pred)\n",
    "report = classification_report(Y_test,y_pred)\n",
    "print (score)\n",
    "print(cm)\n",
    "print(report)"
   ]
  },
  {
   "cell_type": "code",
   "execution_count": null,
   "id": "24010b07-ddef-454f-812f-2e85852c74cd",
   "metadata": {},
   "outputs": [],
   "source": [
    "#major advt. is if we have large dataset it will take less time cz take samples"
   ]
  }
 ],
 "metadata": {
  "kernelspec": {
   "display_name": "Python 3 (ipykernel)",
   "language": "python",
   "name": "python3"
  },
  "language_info": {
   "codemirror_mode": {
    "name": "ipython",
    "version": 3
   },
   "file_extension": ".py",
   "mimetype": "text/x-python",
   "name": "python",
   "nbconvert_exporter": "python",
   "pygments_lexer": "ipython3",
   "version": "3.11.5"
  }
 },
 "nbformat": 4,
 "nbformat_minor": 5
}
